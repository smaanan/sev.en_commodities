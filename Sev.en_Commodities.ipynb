{
 "cells": [
  {
   "cell_type": "code",
   "execution_count": 11,
   "id": "523c4c99",
   "metadata": {},
   "outputs": [],
   "source": [
    "import pandas as pd\n",
    "import numpy as np\n",
    "import ipywidgets as widgets\n",
    "import datetime\n",
    "from ipywidgets import interactive\n",
    "from IPython.display import display, Javascript\n",
    "\n",
    "import warnings\n",
    "warnings.filterwarnings('ignore')\n",
    "\n",
    "\n",
    "parquet_file = r'/home/maanan/sevencommodities/random_deals.parq'\n",
    "\n",
    "df = pd.read_parquet(parquet_file, engine='auto')"
   ]
  },
  {
   "cell_type": "code",
   "execution_count": 12,
   "id": "ae5d914e",
   "metadata": {},
   "outputs": [],
   "source": [
    "# Keep the date, remove the time\n",
    "\n",
    "df['executed_date'] = pd.to_datetime(df['executed_date'], format = '%Y-%m-%d').dt.date\n",
    "df['first_delivery_date'] = pd.to_datetime(df['first_delivery_date'], format = '%Y-%m-%d').dt.date\n",
    "df['last_delivery_date'] = pd.to_datetime(df['last_delivery_date'], format = '%Y-%m-%d').dt.date\n",
    "df['last_trading_date'] = pd.to_datetime(df['last_trading_date'], format = '%Y-%m-%d').dt.date"
   ]
  },
  {
   "cell_type": "code",
   "execution_count": 13,
   "id": "188ac216",
   "metadata": {},
   "outputs": [],
   "source": [
    "# Create widgets\n",
    "## Book widget\n",
    "\n",
    "books = pd.Categorical(df['book'])\n",
    "books = books.categories\n",
    "\n",
    "books_dropdown = widgets.Dropdown(\n",
    "    options=books,\n",
    "    value=books[0],\n",
    "    description='Book:',\n",
    "    disabled=False,\n",
    ")\n",
    "\n",
    "\n",
    "## Counterparty widget\n",
    "\n",
    "counterparty = pd.Categorical(df['counterparty'])\n",
    "counterparty = counterparty.categories\n",
    "\n",
    "counter_dropdown = widgets.Dropdown(\n",
    "    options=counterparty,\n",
    "    value=counterparty[0],\n",
    "    description='Counterparty:',\n",
    "    disabled=False,\n",
    ")\n",
    "\n",
    "\n",
    "# Time widget\n",
    "\n",
    "date_picker = widgets.DatePicker(\n",
    "    description='Pick a Date',\n",
    "    disabled=False,\n",
    ")\n",
    "date_picker.add_class(\"start-date\")\n",
    "\n",
    "script = Javascript(\"\\\n",
    "                const query = '.start-date > input:first-of-type'; \\\n",
    "                document.querySelector(query).setAttribute('min', '2020-12-01'); \\\n",
    "                document.querySelector(query).setAttribute('max', '2025-01-01'); \\\n",
    "        \")\n"
   ]
  },
  {
   "cell_type": "code",
   "execution_count": 14,
   "id": "99ab2cdf",
   "metadata": {},
   "outputs": [],
   "source": [
    "# This function will allow us to do the cascading:\n",
    "# Once a date has been selected, all the deals whos LTD was before that date will be cascaded as follow\n",
    "# Every Quarter will be cascaded into three Months\n",
    "# Every Year will be cascaded into three months and three quarters\n",
    "# Months are not to be cascaded\n",
    "\n",
    "def split_tenor(row):\n",
    "    start, year = row['new_window'].split(\" \")\n",
    "    if start == \"Cal\":\n",
    "        months = [\"Jan\", \"Feb\", \"Mar\", \"Q2\", \"Q3\", \"Q4\"]\n",
    "        year = int(year) + 1\n",
    "    elif start == \"Q1\":\n",
    "        months = [\"Jan\", \"Feb\", \"Mar\"]\n",
    "    elif start == \"Q2\":\n",
    "        months = [\"Apr\", \"May\", \"Jun\"]\n",
    "    elif start == \"Q3\":\n",
    "        months = [\"Jul\", \"Aug\", \"Sep\"]\n",
    "    elif start == \"Q4\":\n",
    "        months = [\"Oct\", \"Nov\", \"Dec\"]\n",
    "    else:\n",
    "        return row['new_window'], row['volume']\n",
    "\n",
    "    if start == \"Cal\":\n",
    "        split_vol = [row['volume']/12] * 3 + [row['volume']/4] * 3\n",
    "    else:\n",
    "        split_vol = [row['volume']/len(months)] * len(months)\n",
    "    \n",
    "    return [f\"{m} {year}\" for m in months], split_vol\n"
   ]
  },
  {
   "cell_type": "code",
   "execution_count": 15,
   "id": "be806d58",
   "metadata": {},
   "outputs": [],
   "source": [
    "# This function will aggregate the shorter periods into longer periods\n",
    "\n",
    "# Add cocatenation for year\n",
    "\n",
    "\n",
    "\n",
    "def ConvtoQuarter(tenor, delivery):\n",
    "  if tenor == \"quarter\":\n",
    "    if delivery[:3] in ['Jan', 'Feb', 'Mar']:\n",
    "      return \"Q1 \"+delivery[-2:]\n",
    "    elif delivery[:3] in ['Apr', 'May', 'Jun']:\n",
    "      return \"Q2 \"+delivery[-2:]\n",
    "    elif delivery[:3] in ['Jul', 'Aug', 'Sep']:\n",
    "      return \"Q3 \" + delivery[-2:]\n",
    "    elif delivery[:3] in ['Oct', 'Nov', 'Dec']:\n",
    "      return \"Q4 \" + delivery[-2:]\n",
    "  else:\n",
    "      return delivery"
   ]
  },
  {
   "cell_type": "code",
   "execution_count": 16,
   "id": "60a89762",
   "metadata": {},
   "outputs": [
    {
     "data": {
      "application/vnd.jupyter.widget-view+json": {
       "model_id": "887b63377cf2416f92d51689d51e79dc",
       "version_major": 2,
       "version_minor": 0
      },
      "text/plain": [
       "interactive(children=(Dropdown(description='Book:', options=('Book_1', 'Book_2', 'Book_3', 'Book_4', 'Book_5',…"
      ]
     },
     "metadata": {},
     "output_type": "display_data"
    },
    {
     "data": {
      "application/vnd.jupyter.widget-view+json": {
       "model_id": "7c5e3b85d1fb467ea0d2b08b87f6aa38",
       "version_major": 2,
       "version_minor": 0
      },
      "text/plain": [
       "Output()"
      ]
     },
     "metadata": {},
     "output_type": "display_data"
    }
   ],
   "source": [
    "def filter_function(bookcode, cpartycode, datecode):\n",
    "                \n",
    "    filtered = df[(df['book'] == bookcode) & (df['counterparty'] == cpartycode)]\n",
    "        \n",
    "    filtered = filtered.drop(['deal_id','book','counterparty','strategy','commodity_code','trading_unit'], axis=1)\n",
    "            \n",
    "    filtered.loc[filtered['buy_sell'] == 'sell', 'volume'] = -filtered['volume']\n",
    "        \n",
    "    filtered['new_window'] = filtered.apply(lambda x: ConvtoQuarter(x['tenor'], x['delivery_window']), axis=1)\n",
    "            \n",
    "    split_1 = filtered[filtered['last_trading_date'] < datecode].copy()\n",
    "    \n",
    "    split_2 = filtered[filtered['last_trading_date'] >= datecode].copy()\n",
    "        \n",
    "    split_1[\"new_window\"], split_1[\"new_volume\"] = zip(*split_1[[\"volume\", \"new_window\"]].apply(split_tenor, axis = 1))\n",
    "            \n",
    "    split_1 = split_1.explode([\"new_window\", \"new_volume\"])\n",
    "    \n",
    "    split_2['new_volume'] = split_2['volume']\n",
    "        \n",
    "    filtered = pd.concat([split_1, split_2], ignore_index=True)\n",
    "            \n",
    "    filtered = pd.pivot_table(filtered, values=\"new_volume\", index=[\"new_window\"], columns=[\"commodity_name\"], aggfunc=np.sum)\n",
    "    \n",
    "    with report_output:\n",
    "        report_output.clear_output()\n",
    "        display(filtered.round(1))  \n",
    "        \n",
    "w = interactive(filter_function, bookcode=books_dropdown, cpartycode=counter_dropdown, datecode=date_picker) \n",
    "\n",
    "display(w)\n",
    "report_output = widgets.Output()\n",
    "display(report_output)"
   ]
  }
 ],
 "metadata": {
  "kernelspec": {
   "display_name": "Python 3 (ipykernel)",
   "language": "python",
   "name": "python3"
  },
  "language_info": {
   "codemirror_mode": {
    "name": "ipython",
    "version": 3
   },
   "file_extension": ".py",
   "mimetype": "text/x-python",
   "name": "python",
   "nbconvert_exporter": "python",
   "pygments_lexer": "ipython3",
   "version": "3.8.10"
  }
 },
 "nbformat": 4,
 "nbformat_minor": 5
}
